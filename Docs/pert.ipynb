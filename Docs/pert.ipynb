{
 "cells": [
  {
   "cell_type": "markdown",
   "source": [
    "# Predicting Gene Perturbation Effects with GEARS and RegFormer"
   ],
   "metadata": {
    "collapsed": false
   }
  },
  {
   "cell_type": "markdown",
   "source": [
    "In this tutorial, we will demonstrate how to train a RegFormer model to predict single-cell gene expression changes following genetic perturbations."
   ],
   "metadata": {
    "collapsed": false
   }
  },
  {
   "cell_type": "markdown",
   "source": [
    "## 1. Execute the code"
   ],
   "metadata": {
    "collapsed": false
   }
  },
  {
   "cell_type": "code",
   "execution_count": 1,
   "outputs": [
    {
     "name": "stdout",
     "output_type": "stream",
     "text": [
      "Save to /home/share/huadjyin/home/s_huluni/project/RegFormer/case/tutorials/pert/saves/pert_adamson_10k\n",
      "scMamba - INFO - Resume model from /home/share/huadjyin/home/s_huluni/project/RegFormer/case/02_pretrain/models/Pretraining/cellxgene/mamba/pt_graph_sort_avg_pool_all_length/best_model.pt, the model args will override the config /home/share/huadjyin/home/s_huluni/project/RegFormer/case/02_pretrain/models/Pretraining/cellxgene/mamba/pt_graph_sort_avg_pool_all_length/args.json.\n",
      ">>> Init parameters:\n",
      "ntoken = 60698\n",
      "d_model = 512\n",
      "nlayers = 10\n",
      "nlayers_cls = 3\n",
      "device = cuda\n",
      "ssm_cfg = None\n",
      "norm_epsilon = 1e-05\n",
      "rms_norm = False\n",
      "fused_add_norm = False\n",
      "residual_in_fp32 = False\n",
      "initializer_cfg = None\n",
      "n_cls = 1\n",
      "vocab = GeneVocab()\n",
      "dropout = 0.2\n",
      "pad_token = <pad>\n",
      "pad_value = -2\n",
      "do_mvc = True\n",
      "do_dab = False\n",
      "do_cce = False\n",
      "use_batch_labels = False\n",
      "num_batch_labels = None\n",
      "domain_spec_batchnorm = False\n",
      "input_emb_style = continuous\n",
      "n_input_bins = 51\n",
      "cell_emb_style = avg-pool\n",
      "mvc_decoder_style = inner product\n",
      "ecs_threshold = 0.3\n",
      "explicit_zero_prob = False\n",
      "pre_norm = False\n",
      "do_pretrain = True\n",
      "topo_graph = True\n",
      "init_layer_scale = None\n",
      "if_bimamba = False\n",
      "bimamba_type = none\n",
      "do_pert = False\n",
      "pert_pad_id = 2\n",
      "token_emb_freeze = False\n",
      "only_value_emb = False\n",
      "bin_cls = False\n",
      "bin_nums = 51\n",
      "use_transformer = False\n",
      "Using simple batchnorm instead of domain specific batchnorm\n",
      "scMamba - INFO - Loading all model params from /home/share/huadjyin/home/s_huluni/project/RegFormer/case/02_pretrain/models/Pretraining/cellxgene/mamba/pt_graph_sort_avg_pool_all_length/best_model.pt\n",
      "scMamba - INFO - Total Pre freeze Params 49354241\n",
      "scMamba - INFO - Total Post freeze Params 49354241\n",
      "scMamba - INFO - Munch({'bimamba_type': 'none', 'distributed': False, 'MVC': True, 'graph_sort': True, 'device': 'cuda', 'test_size': 0.2, 'lr': 0.0001, 'log_interval': 10, 'save_eval_interval': 5, 'schedule_ratio': 0.9, 'do_train': True, 'seed': 42, 'dropout': 0.2, 'layer_size': 512, 'nlayers': 10, 'mask_ratio': 0, 'pre_norm': False, 'finetune': True, 'freeze': False, 'amp': True, 'token_emb_freeze': False, 'sampling_etype': 'ori', 'layer_mask': False, 'layer_emb': True, 'save_dir': '/home/share/huadjyin/home/s_huluni/project/RegFormer/case/tutorials/pert/saves', 'vocab_file': '/home/share/huadjyin/home/s_huluni/project/RegFormer/case/graph/data/vocab/vocab.json', 'cell_type_column': 'cell_type', 'gene_column': 'feature_name', 'umap_column': 'none', 'pca_column': 'none', 'data_is_raw': False, 'filter_gene_by_counts': False, 'DSBN': False, 'input_emb_style': 'continuous', 'cell_emb_style': 'avg-pool', 'n_bins': 51, 'append_cls': False, 'per_seq_batch_sample': False, 'include_zero_gene': False, 'input_style': 'binned', 'output_style': 'binned', 'split': 'simulation', 'train_gene_set_size': 0.75, 'batch_size': 32, 'test_batch_size': 128, 'pretrained_emb_size': 512, 'hidden_size': 64, 'epochs': 10, 'use_pretrained': True, 'pretrain_freeze': False, 'run_name': 'pert_adamson_10k', 'load_model': '/home/share/huadjyin/home/s_huluni/project/RegFormer/case/02_pretrain/models/Pretraining/cellxgene/mamba/pt_graph_sort_avg_pool_all_length', 'data_name': 'adamson', 'model_name': 'pt_graph_sort_avg_pool_all_length', 'data_path': '/home/share/huadjyin/home/s_huluni/project/RegFormer/case/ablation/data/pert/adamson', 'MLM': True, 'TOPO': True, 'random_sort': False, 'generative_pretraining': True, 'only_value_emb': False, 'max_seq_len': 10000, 'alpha_mlm': 0.1, 'alpha_topo': 1.0, 'graph_path': '/home/share/huadjyin/home/s_huluni/project/RegFormer/case/graph/out/cistarget_top20/output_graph_no_cycles.dgl', 'swanlab': True})\n",
      "before filter: (63585, 4399)\n",
      "match 1.0 genes in vocab of size 4399\n",
      "after filter: View of AnnData object with n_obs × n_vars = 63585 × 4399\n",
      "    obs: 'condition', 'cell_type', 'dose_val', 'control', 'condition_name', 'pert_gene_in_vocab'\n",
      "    var: 'gene_name', 'is_in_vocab'\n",
      "    uns: 'non_dropout_gene_idx', 'non_zeros_gene_idx', 'rank_genes_groups_cov_all', 'top_non_dropout_de_20', 'top_non_zero_de_20'\n"
     ]
    },
    {
     "name": "stderr",
     "output_type": "stream",
     "text": [
      "Found local copy...\n",
      "Local copy of pyg dataset is detected. Loading...\n",
      "Done!\n",
      "Found local copy...\n",
      "These perturbations are not in the GO graph and their perturbation can thus not be predicted\n",
      "['TIMM23+ctrl' 'AMIGO3+ctrl' 'KCTD16+ctrl']\n",
      "Local copy of split is detected. Loading...\n",
      "Simulation split test composition:\n",
      "combo_seen0:0\n",
      "combo_seen1:0\n",
      "combo_seen2:0\n",
      "unseen_single:18\n",
      "Done!\n",
      "Creating dataloaders....\n",
      "Done!\n"
     ]
    },
    {
     "name": "stdout",
     "output_type": "stream",
     "text": [
      "here1\n",
      "scMamba - INFO - adata shape: (61939, 4399)\n",
      "scMamba - INFO - Number of genes: 4399\n",
      "scMamba - INFO - start to get gene embedding!\n",
      "scMamba - INFO - finished get gene embedding!\n",
      "/home/share/huadjyin/home/s_huluni/project/RegFormer/case/ablation/data/pert/adamson\n",
      "/home/share/huadjyin/home/s_huluni/project/RegFormer/case/ablation/data/pert/adamson\n"
     ]
    },
    {
     "name": "stderr",
     "output_type": "stream",
     "text": [
      "Start Training...\n",
      "Epoch 1 Step 1 Train Loss: 0.5155\n",
      "Epoch 1 Step 51 Train Loss: 0.5330\n",
      "Epoch 1 Step 101 Train Loss: 0.5042\n",
      "Epoch 1 Step 151 Train Loss: 0.6136\n",
      "Epoch 1 Step 201 Train Loss: 0.4784\n",
      "Epoch 1 Step 251 Train Loss: 0.4632\n",
      "Epoch 1 Step 301 Train Loss: 0.5607\n",
      "Epoch 1 Step 351 Train Loss: 0.6477\n",
      "Epoch 1 Step 401 Train Loss: 0.6258\n",
      "Epoch 1 Step 451 Train Loss: 0.6812\n",
      "Epoch 1 Step 501 Train Loss: 0.5539\n",
      "Epoch 1 Step 551 Train Loss: 0.5371\n",
      "Epoch 1 Step 601 Train Loss: 0.4967\n",
      "Epoch 1 Step 651 Train Loss: 0.6302\n",
      "Epoch 1 Step 701 Train Loss: 0.5551\n",
      "Epoch 1 Step 751 Train Loss: 0.5477\n",
      "Epoch 1 Step 801 Train Loss: 0.6111\n",
      "Epoch 1 Step 851 Train Loss: 0.5818\n",
      "Epoch 1 Step 901 Train Loss: 0.5880\n",
      "Epoch 1 Step 951 Train Loss: 0.5457\n",
      "Epoch 1 Step 1001 Train Loss: 0.5739\n",
      "Epoch 1 Step 1051 Train Loss: 0.5614\n",
      "Epoch 1 Step 1101 Train Loss: 0.5032\n",
      "Epoch 1 Step 1151 Train Loss: 0.6570\n",
      "Epoch 1 Step 1201 Train Loss: 0.5758\n",
      "Epoch 1 Step 1251 Train Loss: 0.5476\n",
      "Epoch 1 Step 1301 Train Loss: 0.5809\n",
      "Epoch 1 Step 1351 Train Loss: 0.7602\n",
      "Epoch 1 Step 1401 Train Loss: 0.5885\n",
      "Epoch 1 Step 1451 Train Loss: 0.5892\n",
      "Epoch 1 Step 1501 Train Loss: 0.6605\n",
      "Epoch 1: Train Overall MSE: 0.0041 Validation Overall MSE: 0.0038. \n",
      "Train Top 20 DE MSE: 0.0492 Validation Top 20 DE MSE: 0.0700. \n",
      "Best epoch:1 mse_de:0.06999887339770794!\n",
      "Epoch 2 Step 1 Train Loss: 0.5594\n",
      "Epoch 2 Step 51 Train Loss: 0.6055\n",
      "Epoch 2 Step 101 Train Loss: 0.6183\n",
      "Epoch 2 Step 151 Train Loss: 0.6529\n",
      "Epoch 2 Step 201 Train Loss: 0.6017\n",
      "Epoch 2 Step 251 Train Loss: 0.6898\n",
      "Epoch 2 Step 301 Train Loss: 0.5145\n",
      "Epoch 2 Step 351 Train Loss: 0.6589\n",
      "Epoch 2 Step 401 Train Loss: 0.5366\n",
      "Epoch 2 Step 451 Train Loss: 0.6502\n",
      "Epoch 2 Step 501 Train Loss: 0.5459\n",
      "Epoch 2 Step 551 Train Loss: 0.6538\n",
      "Epoch 2 Step 601 Train Loss: 0.5596\n",
      "Epoch 2 Step 651 Train Loss: 0.6083\n",
      "Epoch 2 Step 701 Train Loss: 0.6244\n",
      "Epoch 2 Step 751 Train Loss: 0.6671\n",
      "Epoch 2 Step 801 Train Loss: 0.6867\n",
      "Epoch 2 Step 851 Train Loss: 0.6910\n",
      "Epoch 2 Step 901 Train Loss: 0.5173\n",
      "Epoch 2 Step 951 Train Loss: 0.5808\n",
      "Epoch 2 Step 1001 Train Loss: 0.5888\n",
      "Epoch 2 Step 1051 Train Loss: 0.5362\n",
      "Epoch 2 Step 1101 Train Loss: 0.5379\n",
      "Epoch 2 Step 1151 Train Loss: 0.6526\n",
      "Epoch 2 Step 1201 Train Loss: 0.6039\n",
      "Epoch 2 Step 1251 Train Loss: 0.5279\n",
      "Epoch 2 Step 1301 Train Loss: 0.5566\n",
      "Epoch 2 Step 1351 Train Loss: 0.6438\n",
      "Epoch 2 Step 1401 Train Loss: 0.5057\n",
      "Epoch 2 Step 1451 Train Loss: 0.6272\n",
      "Epoch 2 Step 1501 Train Loss: 0.6462\n",
      "Epoch 2: Train Overall MSE: 0.0032 Validation Overall MSE: 0.0033. \n",
      "Train Top 20 DE MSE: 0.0405 Validation Top 20 DE MSE: 0.0754. \n",
      "Epoch 3 Step 1 Train Loss: 0.5329\n",
      "Epoch 3 Step 51 Train Loss: 0.5220\n",
      "Epoch 3 Step 101 Train Loss: 0.5900\n",
      "Epoch 3 Step 151 Train Loss: 0.6633\n",
      "Epoch 3 Step 201 Train Loss: 0.6295\n",
      "Epoch 3 Step 251 Train Loss: 0.5200\n",
      "Epoch 3 Step 301 Train Loss: 0.7128\n",
      "Epoch 3 Step 351 Train Loss: 0.5645\n",
      "Epoch 3 Step 401 Train Loss: 0.6340\n",
      "Epoch 3 Step 451 Train Loss: 0.5871\n",
      "Epoch 3 Step 501 Train Loss: 0.7454\n",
      "Epoch 3 Step 551 Train Loss: 0.5738\n",
      "Epoch 3 Step 601 Train Loss: 0.5546\n",
      "Epoch 3 Step 651 Train Loss: 0.5842\n",
      "Epoch 3 Step 701 Train Loss: 0.5587\n",
      "Epoch 3 Step 751 Train Loss: 0.5920\n",
      "Epoch 3 Step 801 Train Loss: 0.5116\n",
      "Epoch 3 Step 851 Train Loss: 0.4035\n",
      "Epoch 3 Step 901 Train Loss: 0.5351\n",
      "Epoch 3 Step 951 Train Loss: 0.6329\n",
      "Epoch 3 Step 1001 Train Loss: 0.5490\n",
      "Epoch 3 Step 1051 Train Loss: 0.6754\n",
      "Epoch 3 Step 1101 Train Loss: 0.5528\n",
      "Epoch 3 Step 1151 Train Loss: 0.6320\n",
      "Epoch 3 Step 1201 Train Loss: 0.6075\n",
      "Epoch 3 Step 1251 Train Loss: 0.4647\n",
      "Epoch 3 Step 1301 Train Loss: 0.6030\n",
      "Epoch 3 Step 1351 Train Loss: 0.6516\n",
      "Epoch 3 Step 1401 Train Loss: 0.5911\n",
      "Epoch 3 Step 1451 Train Loss: 0.5124\n",
      "Epoch 3 Step 1501 Train Loss: 0.6198\n",
      "Epoch 3: Train Overall MSE: 0.0032 Validation Overall MSE: 0.0041. \n",
      "Train Top 20 DE MSE: 0.0286 Validation Top 20 DE MSE: 0.0674. \n",
      "Best epoch:3 mse_de:0.06744392774999142!\n",
      "Epoch 4 Step 1 Train Loss: 0.5454\n",
      "Epoch 4 Step 51 Train Loss: 0.5601\n",
      "Epoch 4 Step 101 Train Loss: 0.5049\n",
      "Epoch 4 Step 151 Train Loss: 0.5290\n",
      "Epoch 4 Step 201 Train Loss: 0.7507\n",
      "Epoch 4 Step 251 Train Loss: 0.6078\n",
      "Epoch 4 Step 301 Train Loss: 0.5939\n",
      "Epoch 4 Step 351 Train Loss: 0.4893\n",
      "Epoch 4 Step 401 Train Loss: 0.7021\n",
      "Epoch 4 Step 451 Train Loss: 0.5614\n",
      "Epoch 4 Step 501 Train Loss: 0.5605\n",
      "Epoch 4 Step 551 Train Loss: 0.5151\n",
      "Epoch 4 Step 601 Train Loss: 0.5323\n",
      "Epoch 4 Step 651 Train Loss: 0.5347\n",
      "Epoch 4 Step 701 Train Loss: 0.4779\n",
      "Epoch 4 Step 751 Train Loss: 0.5595\n",
      "Epoch 4 Step 801 Train Loss: 0.5587\n",
      "Epoch 4 Step 851 Train Loss: 0.5995\n",
      "Epoch 4 Step 901 Train Loss: 0.5665\n",
      "Epoch 4 Step 951 Train Loss: 0.5521\n",
      "Epoch 4 Step 1001 Train Loss: 0.5585\n",
      "Epoch 4 Step 1051 Train Loss: 0.5891\n",
      "Epoch 4 Step 1101 Train Loss: 0.6092\n",
      "Epoch 4 Step 1151 Train Loss: 0.6481\n",
      "Epoch 4 Step 1201 Train Loss: 0.6281\n",
      "Epoch 4 Step 1251 Train Loss: 0.5838\n",
      "Epoch 4 Step 1301 Train Loss: 0.6539\n",
      "Epoch 4 Step 1351 Train Loss: 0.5455\n",
      "Epoch 4 Step 1401 Train Loss: 0.7013\n",
      "Epoch 4 Step 1451 Train Loss: 0.5814\n",
      "Epoch 4 Step 1501 Train Loss: 0.6483\n",
      "Epoch 4: Train Overall MSE: 0.0029 Validation Overall MSE: 0.0037. \n",
      "Train Top 20 DE MSE: 0.0282 Validation Top 20 DE MSE: 0.0629. \n",
      "Best epoch:4 mse_de:0.06286143915106852!\n",
      "Epoch 5 Step 1 Train Loss: 0.4963\n",
      "Epoch 5 Step 51 Train Loss: 0.5464\n",
      "Epoch 5 Step 101 Train Loss: 0.5608\n",
      "Epoch 5 Step 151 Train Loss: 0.6147\n",
      "Epoch 5 Step 201 Train Loss: 0.5468\n",
      "Epoch 5 Step 251 Train Loss: 0.4767\n",
      "Epoch 5 Step 301 Train Loss: 0.6974\n",
      "Epoch 5 Step 351 Train Loss: 0.5465\n",
      "Epoch 5 Step 401 Train Loss: 0.6692\n",
      "Epoch 5 Step 451 Train Loss: 0.5966\n",
      "Epoch 5 Step 501 Train Loss: 0.5209\n",
      "Epoch 5 Step 551 Train Loss: 0.5425\n",
      "Epoch 5 Step 601 Train Loss: 0.5699\n",
      "Epoch 5 Step 651 Train Loss: 0.5195\n",
      "Epoch 5 Step 701 Train Loss: 0.7015\n",
      "Epoch 5 Step 751 Train Loss: 0.5829\n",
      "Epoch 5 Step 801 Train Loss: 0.5679\n",
      "Epoch 5 Step 851 Train Loss: 0.5405\n",
      "Epoch 5 Step 901 Train Loss: 0.5141\n",
      "Epoch 5 Step 951 Train Loss: 0.8172\n",
      "Epoch 5 Step 1001 Train Loss: 0.7092\n",
      "Epoch 5 Step 1051 Train Loss: 0.6177\n",
      "Epoch 5 Step 1101 Train Loss: 0.4821\n",
      "Epoch 5 Step 1151 Train Loss: 0.6748\n",
      "Epoch 5 Step 1201 Train Loss: 0.6613\n",
      "Epoch 5 Step 1251 Train Loss: 0.6231\n",
      "Epoch 5 Step 1301 Train Loss: 0.5714\n",
      "Epoch 5 Step 1351 Train Loss: 0.6305\n",
      "Epoch 5 Step 1401 Train Loss: 0.5204\n",
      "Epoch 5 Step 1451 Train Loss: 0.5943\n",
      "Epoch 5 Step 1501 Train Loss: 0.5362\n",
      "Epoch 5: Train Overall MSE: 0.0029 Validation Overall MSE: 0.0039. \n",
      "Train Top 20 DE MSE: 0.0262 Validation Top 20 DE MSE: 0.0608. \n",
      "Best epoch:5 mse_de:0.060816255708535515!\n",
      "Epoch 6 Step 1 Train Loss: 0.5063\n",
      "Epoch 6 Step 51 Train Loss: 0.5574\n",
      "Epoch 6 Step 101 Train Loss: 0.6192\n",
      "Epoch 6 Step 151 Train Loss: 0.5871\n",
      "Epoch 6 Step 201 Train Loss: 0.5795\n",
      "Epoch 6 Step 251 Train Loss: 0.6207\n",
      "Epoch 6 Step 301 Train Loss: 0.7455\n",
      "Epoch 6 Step 351 Train Loss: 0.5467\n",
      "Epoch 6 Step 401 Train Loss: 0.6260\n",
      "Epoch 6 Step 451 Train Loss: 0.5986\n",
      "Epoch 6 Step 501 Train Loss: 0.5673\n",
      "Epoch 6 Step 551 Train Loss: 0.5951\n",
      "Epoch 6 Step 601 Train Loss: 0.6487\n",
      "Epoch 6 Step 651 Train Loss: 0.4937\n",
      "Epoch 6 Step 701 Train Loss: 0.6981\n",
      "Epoch 6 Step 751 Train Loss: 0.5062\n",
      "Epoch 6 Step 801 Train Loss: 0.4997\n",
      "Epoch 6 Step 851 Train Loss: 0.5517\n",
      "Epoch 6 Step 901 Train Loss: 0.7278\n",
      "Epoch 6 Step 951 Train Loss: 0.5226\n",
      "Epoch 6 Step 1001 Train Loss: 0.5997\n",
      "Epoch 6 Step 1051 Train Loss: 0.5790\n",
      "Epoch 6 Step 1101 Train Loss: 0.6204\n",
      "Epoch 6 Step 1151 Train Loss: 0.5336\n",
      "Epoch 6 Step 1201 Train Loss: 0.5849\n",
      "Epoch 6 Step 1251 Train Loss: 0.5292\n",
      "Epoch 6 Step 1301 Train Loss: 0.5601\n",
      "Epoch 6 Step 1351 Train Loss: 0.6995\n",
      "Epoch 6 Step 1401 Train Loss: 0.5374\n",
      "Epoch 6 Step 1451 Train Loss: 0.5761\n",
      "Epoch 6 Step 1501 Train Loss: 0.6336\n",
      "Epoch 6: Train Overall MSE: 0.0027 Validation Overall MSE: 0.0036. \n",
      "Train Top 20 DE MSE: 0.0301 Validation Top 20 DE MSE: 0.0619. \n",
      "Epoch 7 Step 1 Train Loss: 0.5396\n",
      "Epoch 7 Step 51 Train Loss: 0.5348\n",
      "Epoch 7 Step 101 Train Loss: 0.5688\n",
      "Epoch 7 Step 151 Train Loss: 0.5474\n",
      "Epoch 7 Step 201 Train Loss: 0.6280\n",
      "Epoch 7 Step 251 Train Loss: 0.5905\n",
      "Epoch 7 Step 301 Train Loss: 0.5844\n",
      "Epoch 7 Step 351 Train Loss: 0.5342\n",
      "Epoch 7 Step 401 Train Loss: 0.6604\n",
      "Epoch 7 Step 451 Train Loss: 0.5311\n",
      "Epoch 7 Step 501 Train Loss: 0.5191\n",
      "Epoch 7 Step 551 Train Loss: 0.5385\n",
      "Epoch 7 Step 601 Train Loss: 0.5971\n",
      "Epoch 7 Step 651 Train Loss: 0.6520\n",
      "Epoch 7 Step 701 Train Loss: 0.5625\n",
      "Epoch 7 Step 751 Train Loss: 0.6152\n",
      "Epoch 7 Step 801 Train Loss: 0.4879\n",
      "Epoch 7 Step 851 Train Loss: 0.4642\n",
      "Epoch 7 Step 901 Train Loss: 0.5864\n",
      "Epoch 7 Step 951 Train Loss: 0.6310\n",
      "Epoch 7 Step 1001 Train Loss: 0.5604\n",
      "Epoch 7 Step 1051 Train Loss: 0.4975\n",
      "Epoch 7 Step 1101 Train Loss: 0.4978\n",
      "Epoch 7 Step 1151 Train Loss: 0.7425\n",
      "Epoch 7 Step 1201 Train Loss: 0.6206\n",
      "Epoch 7 Step 1251 Train Loss: 0.6468\n",
      "Epoch 7 Step 1301 Train Loss: 0.5894\n",
      "Epoch 7 Step 1351 Train Loss: 0.5835\n",
      "Epoch 7 Step 1401 Train Loss: 0.5669\n",
      "Epoch 7 Step 1451 Train Loss: 0.6513\n",
      "Epoch 7 Step 1501 Train Loss: 0.5302\n",
      "Epoch 7: Train Overall MSE: 0.0028 Validation Overall MSE: 0.0039. \n",
      "Train Top 20 DE MSE: 0.0248 Validation Top 20 DE MSE: 0.0584. \n",
      "Best epoch:7 mse_de:0.058385405068596206!\n",
      "Epoch 8 Step 1 Train Loss: 0.5432\n",
      "Epoch 8 Step 51 Train Loss: 0.6605\n",
      "Epoch 8 Step 101 Train Loss: 0.5573\n",
      "Epoch 8 Step 151 Train Loss: 0.5189\n",
      "Epoch 8 Step 201 Train Loss: 0.5941\n",
      "Epoch 8 Step 251 Train Loss: 0.6616\n",
      "Epoch 8 Step 301 Train Loss: 0.5332\n",
      "Epoch 8 Step 351 Train Loss: 0.6398\n",
      "Epoch 8 Step 401 Train Loss: 0.5869\n",
      "Epoch 8 Step 451 Train Loss: 0.5507\n",
      "Epoch 8 Step 501 Train Loss: 0.6102\n",
      "Epoch 8 Step 551 Train Loss: 0.5213\n",
      "Epoch 8 Step 601 Train Loss: 0.5898\n",
      "Epoch 8 Step 651 Train Loss: 0.5940\n",
      "Epoch 8 Step 701 Train Loss: 0.6393\n",
      "Epoch 8 Step 751 Train Loss: 0.6346\n",
      "Epoch 8 Step 801 Train Loss: 0.5397\n",
      "Epoch 8 Step 851 Train Loss: 0.6563\n",
      "Epoch 8 Step 901 Train Loss: 0.5441\n",
      "Epoch 8 Step 951 Train Loss: 0.6056\n",
      "Epoch 8 Step 1001 Train Loss: 0.5493\n",
      "Epoch 8 Step 1051 Train Loss: 0.5486\n",
      "Epoch 8 Step 1101 Train Loss: 0.6945\n",
      "Epoch 8 Step 1151 Train Loss: 0.5001\n",
      "Epoch 8 Step 1201 Train Loss: 0.5364\n",
      "Epoch 8 Step 1251 Train Loss: 0.6445\n",
      "Epoch 8 Step 1301 Train Loss: 0.5847\n",
      "Epoch 8 Step 1351 Train Loss: 0.5234\n",
      "Epoch 8 Step 1401 Train Loss: 0.5333\n",
      "Epoch 8 Step 1451 Train Loss: 0.5905\n",
      "Epoch 8 Step 1501 Train Loss: 0.5110\n",
      "Epoch 8: Train Overall MSE: 0.0029 Validation Overall MSE: 0.0040. \n",
      "Train Top 20 DE MSE: 0.0240 Validation Top 20 DE MSE: 0.0610. \n",
      "Epoch 9 Step 1 Train Loss: 0.5775\n",
      "Epoch 9 Step 51 Train Loss: 0.6078\n",
      "Epoch 9 Step 101 Train Loss: 0.6138\n",
      "Epoch 9 Step 151 Train Loss: 0.5291\n",
      "Epoch 9 Step 201 Train Loss: 0.5747\n",
      "Epoch 9 Step 251 Train Loss: 0.6877\n",
      "Epoch 9 Step 301 Train Loss: 0.6941\n",
      "Epoch 9 Step 351 Train Loss: 0.7125\n",
      "Epoch 9 Step 401 Train Loss: 0.5230\n",
      "Epoch 9 Step 451 Train Loss: 0.5253\n",
      "Epoch 9 Step 501 Train Loss: 0.6159\n",
      "Epoch 9 Step 551 Train Loss: 0.4809\n",
      "Epoch 9 Step 601 Train Loss: 0.5851\n",
      "Epoch 9 Step 651 Train Loss: 0.5930\n",
      "Epoch 9 Step 701 Train Loss: 0.6289\n",
      "Epoch 9 Step 751 Train Loss: 0.6147\n",
      "Epoch 9 Step 801 Train Loss: 0.6084\n",
      "Epoch 9 Step 851 Train Loss: 0.5560\n",
      "Epoch 9 Step 901 Train Loss: 0.6531\n",
      "Epoch 9 Step 951 Train Loss: 0.5599\n",
      "Epoch 9 Step 1001 Train Loss: 0.5505\n",
      "Epoch 9 Step 1051 Train Loss: 0.5411\n",
      "Epoch 9 Step 1101 Train Loss: 0.5868\n",
      "Epoch 9 Step 1151 Train Loss: 0.5802\n",
      "Epoch 9 Step 1201 Train Loss: 0.5551\n",
      "Epoch 9 Step 1251 Train Loss: 0.5436\n",
      "Epoch 9 Step 1301 Train Loss: 0.6043\n",
      "Epoch 9 Step 1351 Train Loss: 0.5704\n",
      "Epoch 9 Step 1401 Train Loss: 0.6240\n",
      "Epoch 9 Step 1451 Train Loss: 0.6487\n",
      "Epoch 9 Step 1501 Train Loss: 0.5926\n",
      "Epoch 9: Train Overall MSE: 0.0030 Validation Overall MSE: 0.0043. \n",
      "Train Top 20 DE MSE: 0.0220 Validation Top 20 DE MSE: 0.0587. \n",
      "Epoch 10 Step 1 Train Loss: 0.4802\n",
      "Epoch 10 Step 51 Train Loss: 0.5827\n",
      "Epoch 10 Step 101 Train Loss: 0.6448\n",
      "Epoch 10 Step 151 Train Loss: 0.5924\n",
      "Epoch 10 Step 201 Train Loss: 0.6675\n",
      "Epoch 10 Step 251 Train Loss: 0.6646\n",
      "Epoch 10 Step 301 Train Loss: 0.5868\n",
      "Epoch 10 Step 351 Train Loss: 0.5685\n",
      "Epoch 10 Step 401 Train Loss: 0.5408\n",
      "Epoch 10 Step 451 Train Loss: 0.6144\n",
      "Epoch 10 Step 501 Train Loss: 0.6300\n",
      "Epoch 10 Step 551 Train Loss: 0.5738\n",
      "Epoch 10 Step 601 Train Loss: 0.5961\n",
      "Epoch 10 Step 651 Train Loss: 0.5297\n",
      "Epoch 10 Step 701 Train Loss: 0.5345\n",
      "Epoch 10 Step 751 Train Loss: 0.4949\n",
      "Epoch 10 Step 801 Train Loss: 0.5528\n",
      "Epoch 10 Step 851 Train Loss: 0.5094\n",
      "Epoch 10 Step 901 Train Loss: 0.5328\n",
      "Epoch 10 Step 951 Train Loss: 0.6551\n",
      "Epoch 10 Step 1001 Train Loss: 0.5504\n",
      "Epoch 10 Step 1051 Train Loss: 0.5934\n",
      "Epoch 10 Step 1101 Train Loss: 0.6010\n",
      "Epoch 10 Step 1151 Train Loss: 0.5396\n",
      "Epoch 10 Step 1201 Train Loss: 0.5164\n",
      "Epoch 10 Step 1251 Train Loss: 0.5276\n",
      "Epoch 10 Step 1301 Train Loss: 0.6282\n",
      "Epoch 10 Step 1351 Train Loss: 0.5297\n",
      "Epoch 10 Step 1401 Train Loss: 0.6073\n",
      "Epoch 10 Step 1451 Train Loss: 0.6171\n",
      "Epoch 10 Step 1501 Train Loss: 0.6227\n",
      "Epoch 10: Train Overall MSE: 0.0030 Validation Overall MSE: 0.0043. \n",
      "Train Top 20 DE MSE: 0.0232 Validation Top 20 DE MSE: 0.0569. \n",
      "Best epoch:10 mse_de:0.056917473363379635!\n",
      "Done!\n",
      "Start Testing...\n",
      "Best performing model: Test Top 20 DE MSE: 0.1093\n",
      "Start doing subgroup analysis for simulation split...\n",
      "test_combo_seen0_mse: nan\n",
      "test_combo_seen0_pearson: nan\n",
      "test_combo_seen0_mse_de: nan\n",
      "test_combo_seen0_pearson_de: nan\n",
      "test_combo_seen1_mse: nan\n",
      "test_combo_seen1_pearson: nan\n",
      "test_combo_seen1_mse_de: nan\n",
      "test_combo_seen1_pearson_de: nan\n",
      "test_combo_seen2_mse: nan\n",
      "test_combo_seen2_pearson: nan\n",
      "test_combo_seen2_mse_de: nan\n",
      "test_combo_seen2_pearson_de: nan\n",
      "test_unseen_single_mse: 0.004939027156473862\n",
      "test_unseen_single_pearson: 0.9930764414529238\n",
      "test_unseen_single_mse_de: 0.1092962307545046\n",
      "test_unseen_single_pearson_de: 0.971081830735309\n",
      "test_combo_seen0_pearson_delta: nan\n",
      "test_combo_seen0_frac_opposite_direction_top20_non_dropout: nan\n",
      "test_combo_seen0_frac_sigma_below_1_non_dropout: nan\n",
      "test_combo_seen0_mse_top20_de_non_dropout: nan\n",
      "test_combo_seen1_pearson_delta: nan\n",
      "test_combo_seen1_frac_opposite_direction_top20_non_dropout: nan\n",
      "test_combo_seen1_frac_sigma_below_1_non_dropout: nan\n",
      "test_combo_seen1_mse_top20_de_non_dropout: nan\n",
      "test_combo_seen2_pearson_delta: nan\n",
      "test_combo_seen2_frac_opposite_direction_top20_non_dropout: nan\n",
      "test_combo_seen2_frac_sigma_below_1_non_dropout: nan\n",
      "test_combo_seen2_mse_top20_de_non_dropout: nan\n",
      "test_unseen_single_pearson_delta: 0.7126813187339958\n",
      "test_unseen_single_frac_opposite_direction_top20_non_dropout: 0.03333333333333333\n",
      "test_unseen_single_frac_sigma_below_1_non_dropout: 0.8527777777777777\n",
      "test_unseen_single_mse_top20_de_non_dropout: 0.10940119489613506\n",
      "Done!\n"
     ]
    },
    {
     "name": "stdout",
     "output_type": "stream",
     "text": [
      "scMamba - INFO - Perturbation modeling complete.\n",
      "scMamba - INFO - Test subgroups: dict_keys(['combo_seen0', 'combo_seen1', 'combo_seen2', 'unseen_single'])\n",
      "scMamba - INFO - Conditions: ['CREB1+ctrl', 'ctrl', 'ZNF326+ctrl', 'BHLHE40+ctrl', 'DDIT3+ctrl', ..., 'XRN1+ctrl', 'TMED2+ctrl', 'P4HB+ctrl', 'SPCS3+ctrl', 'SPCS2+ctrl']\n",
      "Length: 73\n",
      "Categories (73, object): ['ARHGAP22+ctrl', 'ASCC3+ctrl', 'BHLHE40+ctrl', 'CAD+ctrl', ..., 'XRN1+ctrl', 'YIPF5+ctrl', 'ZNF326+ctrl', 'ctrl']\n",
      "scMamba - INFO - Test metrics: {'mse': 0.004939027117668754, 'mse_de': 0.10929622708095445, 'pearson': 0.9930764414623963, 'pearson_de': 0.9710818303440861}\n",
      "scMamba - INFO - Saved evaluation results to /home/share/huadjyin/home/s_huluni/project/RegFormer/case/tutorials/pert/saves/pert_adamson_10k/result.pkl\n"
     ]
    },
    {
     "data": {
      "text/plain": "({'pert_cat': array(['BHLHE40+ctrl', 'BHLHE40+ctrl', 'BHLHE40+ctrl', ..., 'TMED2+ctrl',\n         'TMED2+ctrl', 'TMED2+ctrl'], dtype='<U12'),\n  'pred': array([[ 0.00030417, -0.00110798, -0.00082807, ..., -0.00055662,\n           0.03222116,  0.02485671],\n         [ 0.00030417, -0.00110798, -0.00082807, ..., -0.00055662,\n           0.03222115,  0.0248567 ],\n         [ 0.00030417, -0.00110798, -0.00082807, ..., -0.00055662,\n           0.03222115,  0.0248567 ],\n         ...,\n         [ 0.00168384,  0.04077616,  0.01149166, ...,  0.01927092,\n           0.09087668,  0.12382323],\n         [ 0.00168384,  0.04077616,  0.01149166, ...,  0.01927092,\n           0.09087668,  0.12382323],\n         [ 0.00168384,  0.04077616,  0.01149166, ...,  0.01927092,\n           0.09087668,  0.12382323]], dtype=float32),\n  'truth': array([[0.        , 0.        , 0.        , ..., 0.        , 0.        ,\n          0.        ],\n         [0.        , 0.        , 0.        , ..., 0.        , 0.        ,\n          0.        ],\n         [0.        , 0.        , 0.        , ..., 0.        , 0.        ,\n          0.        ],\n         ...,\n         [0.        , 0.        , 0.        , ..., 0.        , 0.        ,\n          0.        ],\n         [0.        , 0.        , 0.        , ..., 0.        , 0.        ,\n          0.64690864],\n         [0.        , 0.        , 0.        , ..., 0.        , 0.        ,\n          0.        ]], dtype=float32),\n  'pred_de': array([[4.8127   , 2.5870876, 4.004649 , ..., 2.456131 , 4.3663993,\n          4.5229726],\n         [4.6054816, 1.3578253, 3.6191936, ..., 3.0435674, 4.241066 ,\n          4.22894  ],\n         [4.8013563, 2.2717586, 3.8168664, ..., 2.877003 , 4.20922  ,\n          4.4112754],\n         ...,\n         [3.9204826, 2.955523 , 1.4602001, ..., 4.622023 , 3.4876513,\n          1.8747663],\n         [4.3013678, 2.3389897, 1.6122453, ..., 4.8885264, 3.5214305,\n          3.1071475],\n         [4.442059 , 3.0460615, 1.4633124, ..., 4.3668823, 3.4006793,\n          2.0028503]], dtype=float32),\n  'truth_de': array([[4.914246  , 0.        , 4.124671  , ..., 2.3480515 , 4.3223977 ,\n          4.3223977 ],\n         [4.49725   , 0.88862056, 3.8151808 , ..., 3.1124744 , 4.4141436 ,\n          4.1809773 ],\n         [4.811365  , 2.9833424 , 3.650852  , ..., 0.        , 4.5007005 ,\n          3.9621983 ],\n         ...,\n         [4.1737347 , 2.8325894 , 1.6089076 , ..., 4.5877066 , 3.7449274 ,\n          3.105447  ],\n         [4.313211  , 2.6199324 , 0.64690864, ..., 4.5790377 , 3.7360797 ,\n          2.7443213 ],\n         [4.3025975 , 2.65135   , 1.9667591 , ..., 4.32609   , 3.4294338 ,\n          2.082647  ]], dtype=float32)},\n {'mse': 0.004939027117668754,\n  'mse_de': 0.10929622708095445,\n  'pearson': 0.9930764414623963,\n  'pearson_de': 0.9710818303440861},\n {'ASCC3+ctrl': {'mse': 0.006801294628530741,\n   'pearson': 0.9907217791223724,\n   'mse_de': 0.03943005949258804,\n   'pearson_de': 0.9871377997875475},\n  'BHLHE40+ctrl': {'mse': 0.00887761265039444,\n   'pearson': 0.987597017641094,\n   'mse_de': 0.39505910873413086,\n   'pearson_de': 0.9719969214253906},\n  'DDOST+ctrl': {'mse': 0.0029295310378074646,\n   'pearson': 0.996109658482118,\n   'mse_de': 0.07340885698795319,\n   'pearson_de': 0.9755228941943525},\n  'DHDDS+ctrl': {'mse': 0.008383771404623985,\n   'pearson': 0.9884223866197526,\n   'mse_de': 0.37872040271759033,\n   'pearson_de': 0.9442052194560693},\n  'FARSB+ctrl': {'mse': 0.0045693255960941315,\n   'pearson': 0.9940250159963737,\n   'mse_de': 0.06898792833089828,\n   'pearson_de': 0.9743121185649536},\n  'FECH+ctrl': {'mse': 0.003713589161634445,\n   'pearson': 0.9949962527379614,\n   'mse_de': 0.02512313798069954,\n   'pearson_de': 0.9923199817463841},\n  'GMPPB+ctrl': {'mse': 0.003925064578652382,\n   'pearson': 0.9951393840376759,\n   'mse_de': 0.02205745317041874,\n   'pearson_de': 0.9918850308795962},\n  'IARS2+ctrl': {'mse': 0.010777042247354984,\n   'pearson': 0.9824181484830626,\n   'mse_de': 0.28468719124794006,\n   'pearson_de': 0.8918630644285349},\n  'MANF+ctrl': {'mse': 0.0026846015825867653,\n   'pearson': 0.996174707553637,\n   'mse_de': 0.07587561011314392,\n   'pearson_de': 0.9738884015146242},\n  'OST4+ctrl': {'mse': 0.002645932137966156,\n   'pearson': 0.996566789471504,\n   'mse_de': 0.12563131749629974,\n   'pearson_de': 0.9521886268563597},\n  'SAMM50+ctrl': {'mse': 0.005988586228340864,\n   'pearson': 0.991575560765301,\n   'mse_de': 0.12491841614246368,\n   'pearson_de': 0.9440737778366306},\n  'SLC39A7+ctrl': {'mse': 0.0037688883021473885,\n   'pearson': 0.9954523600538489,\n   'mse_de': 0.0248451866209507,\n   'pearson_de': 0.9896901629778415},\n  'SOCS1+ctrl': {'mse': 0.0038695104885846376,\n   'pearson': 0.9949241792045386,\n   'mse_de': 0.014088684692978859,\n   'pearson_de': 0.9956109009581788},\n  'TELO2+ctrl': {'mse': 0.0029873435851186514,\n   'pearson': 0.9960925305504775,\n   'mse_de': 0.033654145896434784,\n   'pearson_de': 0.9922812873618139},\n  'TMED2+ctrl': {'mse': 0.003976513631641865,\n   'pearson': 0.9946245659041817,\n   'mse_de': 0.07985378801822662,\n   'pearson_de': 0.9709786764944167},\n  'TTI1+ctrl': {'mse': 0.007072025910019875,\n   'pearson': 0.988764388180608,\n   'mse_de': 0.12071815878152847,\n   'pearson_de': 0.9587798516284907},\n  'UFL1+ctrl': {'mse': 0.002422124147415161,\n   'pearson': 0.9970896320644586,\n   'mse_de': 0.011183124035596848,\n   'pearson_de': 0.9953274360083464},\n  'UFM1+ctrl': {'mse': 0.003509730799123645,\n   'pearson': 0.9946815894541661,\n   'mse_de': 0.06908951699733734,\n   'pearson_de': 0.9774107940740167}})"
     },
     "execution_count": 1,
     "metadata": {},
     "output_type": "execute_result"
    }
   ],
   "source": [
    "from downstream_task.regformer_pert import PertTaskMamba\n",
    "config_file = \"pert_adamson_10k.toml\"\n",
    "task = PertTaskMamba(config_file)\n",
    "pert_data, model = task.run_pert_analysis()\n",
    "task.evaluate_pert(pert_data, model,  output_file=task.save_dir / \"result.pkl\")"
   ],
   "metadata": {
    "collapsed": false,
    "ExecuteTime": {
     "end_time": "2025-10-13T09:00:10.871240Z",
     "start_time": "2025-10-13T07:19:07.495870Z"
    }
   }
  },
  {
   "cell_type": "markdown",
   "source": [
    "## 2. Inspect and Analyze Results"
   ],
   "metadata": {
    "collapsed": false
   }
  },
  {
   "cell_type": "code",
   "execution_count": 1,
   "outputs": [],
   "source": [
    "import pickle\n",
    "import pandas as pd\n",
    "import seaborn as sns\n",
    "import matplotlib.pyplot as plt"
   ],
   "metadata": {
    "collapsed": false,
    "ExecuteTime": {
     "end_time": "2025-10-13T09:38:06.726589400Z",
     "start_time": "2025-10-13T09:38:06.726589400Z"
    }
   }
  },
  {
   "cell_type": "code",
   "execution_count": 2,
   "outputs": [
    {
     "name": "stdout",
     "output_type": "stream",
     "text": [
      "Results loaded successfully!\n"
     ]
    }
   ],
   "source": [
    "# Define the full path to your result file\n",
    "result_file_path = \"/home/share/huadjyin/home/s_huluni/project/RegFormer/case/tutorials/pert/saves/pert_adamson_10k/result.pkl\"\n",
    "\n",
    "# Configure plot styles\n",
    "sns.set_theme(style=\"whitegrid\")\n",
    "plt.rcParams['figure.figsize'] = (10, 6)\n",
    "plt.rcParams['font.size'] = 12\n",
    "\n",
    "# --- Load Data ---\n",
    "try:\n",
    "    with open(result_file_path, 'rb') as f:\n",
    "        # The script saves a list with three components\n",
    "        test_res, test_metrics, test_pert_res = pickle.load(f)\n",
    "    print(\"Results loaded successfully!\")\n",
    "except FileNotFoundError:\n",
    "    print(f\" Error: The file was not found at '{result_file_path}'\")\n",
    "    test_metrics, test_pert_res = None, None"
   ],
   "metadata": {
    "collapsed": false,
    "ExecuteTime": {
     "end_time": "2025-10-13T09:38:16.641837200Z",
     "start_time": "2025-10-13T09:38:16.571152Z"
    }
   }
  },
  {
   "cell_type": "code",
   "execution_count": 3,
   "outputs": [
    {
     "name": "stdout",
     "output_type": "stream",
     "text": [
      "--- Overall Model Performance Metrics ---\n"
     ]
    },
    {
     "data": {
      "text/plain": "               Score\nmse         0.004939\nmse_de      0.109296\npearson     0.993076\npearson_de  0.971082",
      "text/html": "<div>\n<style scoped>\n    .dataframe tbody tr th:only-of-type {\n        vertical-align: middle;\n    }\n\n    .dataframe tbody tr th {\n        vertical-align: top;\n    }\n\n    .dataframe thead th {\n        text-align: right;\n    }\n</style>\n<table border=\"1\" class=\"dataframe\">\n  <thead>\n    <tr style=\"text-align: right;\">\n      <th></th>\n      <th>Score</th>\n    </tr>\n  </thead>\n  <tbody>\n    <tr>\n      <th>mse</th>\n      <td>0.004939</td>\n    </tr>\n    <tr>\n      <th>mse_de</th>\n      <td>0.109296</td>\n    </tr>\n    <tr>\n      <th>pearson</th>\n      <td>0.993076</td>\n    </tr>\n    <tr>\n      <th>pearson_de</th>\n      <td>0.971082</td>\n    </tr>\n  </tbody>\n</table>\n</div>"
     },
     "metadata": {},
     "output_type": "display_data"
    }
   ],
   "source": [
    "# --- 1. Display Overall Performance Metrics ---\n",
    "if test_metrics:\n",
    "    # Convert the metrics dictionary to a pandas DataFrame for better visualization\n",
    "    metrics_df = pd.DataFrame.from_dict(test_metrics, orient='index', columns=['Score'])\n",
    "\n",
    "    print(\"--- Overall Model Performance Metrics ---\")\n",
    "    display(metrics_df)\n",
    "else:\n",
    "    print(\"Metrics data is not available.\")"
   ],
   "metadata": {
    "collapsed": false,
    "ExecuteTime": {
     "end_time": "2025-10-13T09:38:18.829015400Z",
     "start_time": "2025-10-13T09:38:18.813804700Z"
    }
   }
  },
  {
   "cell_type": "code",
   "execution_count": 4,
   "outputs": [
    {
     "name": "stderr",
     "output_type": "stream",
     "text": [
      "/home/share/huadjyin/home/s_huluni/tmp/ipykernel_2987247/2854611782.py:9: FutureWarning: \n",
      "\n",
      "Passing `palette` without assigning `hue` is deprecated and will be removed in v0.14.0. Assign the `x` variable to `hue` and set `legend=False` for the same effect.\n",
      "\n",
      "  ax = sns.barplot(data=metrics_plot_df, x='Metric', y='Score', palette='viridis')\n",
      "/home/share/huadjyin/home/s_huluni/anaconda3/envs/py39_torch/lib/python3.9/site-packages/seaborn/_base.py:949: FutureWarning: When grouping with a length-1 list-like, you will need to pass a length-1 tuple to get_group in a future version of pandas. Pass `(name,)` instead of `name` to silence this warning.\n",
      "  data_subset = grouped_data.get_group(pd_key)\n",
      "/home/share/huadjyin/home/s_huluni/anaconda3/envs/py39_torch/lib/python3.9/site-packages/seaborn/_base.py:949: FutureWarning: When grouping with a length-1 list-like, you will need to pass a length-1 tuple to get_group in a future version of pandas. Pass `(name,)` instead of `name` to silence this warning.\n",
      "  data_subset = grouped_data.get_group(pd_key)\n",
      "/home/share/huadjyin/home/s_huluni/anaconda3/envs/py39_torch/lib/python3.9/site-packages/seaborn/_base.py:949: FutureWarning: When grouping with a length-1 list-like, you will need to pass a length-1 tuple to get_group in a future version of pandas. Pass `(name,)` instead of `name` to silence this warning.\n",
      "  data_subset = grouped_data.get_group(pd_key)\n",
      "/home/share/huadjyin/home/s_huluni/anaconda3/envs/py39_torch/lib/python3.9/site-packages/seaborn/_base.py:949: FutureWarning: When grouping with a length-1 list-like, you will need to pass a length-1 tuple to get_group in a future version of pandas. Pass `(name,)` instead of `name` to silence this warning.\n",
      "  data_subset = grouped_data.get_group(pd_key)\n"
     ]
    },
    {
     "data": {
      "text/plain": "<Figure size 1200x700 with 1 Axes>",
      "image/png": "[encoded data removed]"
     },
     "metadata": {},
     "output_type": "display_data"
    }
   ],
   "source": [
    "# --- 2. Visualize a Key Performance Metric ---\n",
    "if test_metrics:\n",
    "    # Create a DataFrame from the metrics for plotting\n",
    "    # The original DataFrame already has the correct structure after the fix in Cell 3\n",
    "    metrics_plot_df = metrics_df.reset_index().rename(columns={'index': 'Metric'})\n",
    "\n",
    "    plt.figure(figsize=(12, 7))\n",
    "    # CORRECTED: Plot 'pearson_de' which exists in your data\n",
    "    ax = sns.barplot(data=metrics_plot_df, x='Metric', y='Score', palette='viridis')\n",
    "\n",
    "    # Add labels on top of the bars\n",
    "    for container in ax.containers:\n",
    "        ax.bar_label(container, fmt='%.4f')\n",
    "\n",
    "    # CORRECTED: Updated title to reflect the new metric\n",
    "    ax.set_title('Overall Model Performance Metrics', fontsize=16, pad=20)\n",
    "    ax.set_xlabel('Metric', fontsize=12)\n",
    "    ax.set_ylabel('Score', fontsize=12)\n",
    "    plt.xticks(rotation=45, ha='right')\n",
    "    plt.tight_layout()\n",
    "    plt.show()"
   ],
   "metadata": {
    "collapsed": false,
    "ExecuteTime": {
     "end_time": "2025-10-13T09:38:20.648814400Z",
     "start_time": "2025-10-13T09:38:20.154488200Z"
    }
   }
  },
  {
   "cell_type": "code",
   "execution_count": 5,
   "outputs": [
    {
     "name": "stdout",
     "output_type": "stream",
     "text": [
      "--- Top 10 Best-Predicted Perturbations (by Pearson DE) ---\n"
     ]
    },
    {
     "data": {
      "text/plain": "                   mse   pearson    mse_de  pearson_de\nSOCS1+ctrl    0.003870  0.994924  0.014089    0.995611\nUFL1+ctrl     0.002422  0.997090  0.011183    0.995327\nFECH+ctrl     0.003714  0.994996  0.025123    0.992320\nTELO2+ctrl    0.002987  0.996093  0.033654    0.992281\nGMPPB+ctrl    0.003925  0.995139  0.022057    0.991885\nSLC39A7+ctrl  0.003769  0.995452  0.024845    0.989690\nASCC3+ctrl    0.006801  0.990722  0.039430    0.987138\nUFM1+ctrl     0.003510  0.994682  0.069090    0.977411\nDDOST+ctrl    0.002930  0.996110  0.073409    0.975523\nFARSB+ctrl    0.004569  0.994025  0.068988    0.974312",
      "text/html": "<div>\n<style scoped>\n    .dataframe tbody tr th:only-of-type {\n        vertical-align: middle;\n    }\n\n    .dataframe tbody tr th {\n        vertical-align: top;\n    }\n\n    .dataframe thead th {\n        text-align: right;\n    }\n</style>\n<table border=\"1\" class=\"dataframe\">\n  <thead>\n    <tr style=\"text-align: right;\">\n      <th></th>\n      <th>mse</th>\n      <th>pearson</th>\n      <th>mse_de</th>\n      <th>pearson_de</th>\n    </tr>\n  </thead>\n  <tbody>\n    <tr>\n      <th>SOCS1+ctrl</th>\n      <td>0.003870</td>\n      <td>0.994924</td>\n      <td>0.014089</td>\n      <td>0.995611</td>\n    </tr>\n    <tr>\n      <th>UFL1+ctrl</th>\n      <td>0.002422</td>\n      <td>0.997090</td>\n      <td>0.011183</td>\n      <td>0.995327</td>\n    </tr>\n    <tr>\n      <th>FECH+ctrl</th>\n      <td>0.003714</td>\n      <td>0.994996</td>\n      <td>0.025123</td>\n      <td>0.992320</td>\n    </tr>\n    <tr>\n      <th>TELO2+ctrl</th>\n      <td>0.002987</td>\n      <td>0.996093</td>\n      <td>0.033654</td>\n      <td>0.992281</td>\n    </tr>\n    <tr>\n      <th>GMPPB+ctrl</th>\n      <td>0.003925</td>\n      <td>0.995139</td>\n      <td>0.022057</td>\n      <td>0.991885</td>\n    </tr>\n    <tr>\n      <th>SLC39A7+ctrl</th>\n      <td>0.003769</td>\n      <td>0.995452</td>\n      <td>0.024845</td>\n      <td>0.989690</td>\n    </tr>\n    <tr>\n      <th>ASCC3+ctrl</th>\n      <td>0.006801</td>\n      <td>0.990722</td>\n      <td>0.039430</td>\n      <td>0.987138</td>\n    </tr>\n    <tr>\n      <th>UFM1+ctrl</th>\n      <td>0.003510</td>\n      <td>0.994682</td>\n      <td>0.069090</td>\n      <td>0.977411</td>\n    </tr>\n    <tr>\n      <th>DDOST+ctrl</th>\n      <td>0.002930</td>\n      <td>0.996110</td>\n      <td>0.073409</td>\n      <td>0.975523</td>\n    </tr>\n    <tr>\n      <th>FARSB+ctrl</th>\n      <td>0.004569</td>\n      <td>0.994025</td>\n      <td>0.068988</td>\n      <td>0.974312</td>\n    </tr>\n  </tbody>\n</table>\n</div>"
     },
     "metadata": {},
     "output_type": "display_data"
    },
    {
     "name": "stdout",
     "output_type": "stream",
     "text": [
      "\n",
      "--- Top 10 Worst-Predicted Perturbations (by Pearson DE) ---\n"
     ]
    },
    {
     "data": {
      "text/plain": "                   mse   pearson    mse_de  pearson_de\nIARS2+ctrl    0.010777  0.982418  0.284687    0.891863\nSAMM50+ctrl   0.005989  0.991576  0.124918    0.944074\nDHDDS+ctrl    0.008384  0.988422  0.378720    0.944205\nOST4+ctrl     0.002646  0.996567  0.125631    0.952189\nTTI1+ctrl     0.007072  0.988764  0.120718    0.958780\nTMED2+ctrl    0.003977  0.994625  0.079854    0.970979\nBHLHE40+ctrl  0.008878  0.987597  0.395059    0.971997\nMANF+ctrl     0.002685  0.996175  0.075876    0.973888\nFARSB+ctrl    0.004569  0.994025  0.068988    0.974312\nDDOST+ctrl    0.002930  0.996110  0.073409    0.975523",
      "text/html": "<div>\n<style scoped>\n    .dataframe tbody tr th:only-of-type {\n        vertical-align: middle;\n    }\n\n    .dataframe tbody tr th {\n        vertical-align: top;\n    }\n\n    .dataframe thead th {\n        text-align: right;\n    }\n</style>\n<table border=\"1\" class=\"dataframe\">\n  <thead>\n    <tr style=\"text-align: right;\">\n      <th></th>\n      <th>mse</th>\n      <th>pearson</th>\n      <th>mse_de</th>\n      <th>pearson_de</th>\n    </tr>\n  </thead>\n  <tbody>\n    <tr>\n      <th>IARS2+ctrl</th>\n      <td>0.010777</td>\n      <td>0.982418</td>\n      <td>0.284687</td>\n      <td>0.891863</td>\n    </tr>\n    <tr>\n      <th>SAMM50+ctrl</th>\n      <td>0.005989</td>\n      <td>0.991576</td>\n      <td>0.124918</td>\n      <td>0.944074</td>\n    </tr>\n    <tr>\n      <th>DHDDS+ctrl</th>\n      <td>0.008384</td>\n      <td>0.988422</td>\n      <td>0.378720</td>\n      <td>0.944205</td>\n    </tr>\n    <tr>\n      <th>OST4+ctrl</th>\n      <td>0.002646</td>\n      <td>0.996567</td>\n      <td>0.125631</td>\n      <td>0.952189</td>\n    </tr>\n    <tr>\n      <th>TTI1+ctrl</th>\n      <td>0.007072</td>\n      <td>0.988764</td>\n      <td>0.120718</td>\n      <td>0.958780</td>\n    </tr>\n    <tr>\n      <th>TMED2+ctrl</th>\n      <td>0.003977</td>\n      <td>0.994625</td>\n      <td>0.079854</td>\n      <td>0.970979</td>\n    </tr>\n    <tr>\n      <th>BHLHE40+ctrl</th>\n      <td>0.008878</td>\n      <td>0.987597</td>\n      <td>0.395059</td>\n      <td>0.971997</td>\n    </tr>\n    <tr>\n      <th>MANF+ctrl</th>\n      <td>0.002685</td>\n      <td>0.996175</td>\n      <td>0.075876</td>\n      <td>0.973888</td>\n    </tr>\n    <tr>\n      <th>FARSB+ctrl</th>\n      <td>0.004569</td>\n      <td>0.994025</td>\n      <td>0.068988</td>\n      <td>0.974312</td>\n    </tr>\n    <tr>\n      <th>DDOST+ctrl</th>\n      <td>0.002930</td>\n      <td>0.996110</td>\n      <td>0.073409</td>\n      <td>0.975523</td>\n    </tr>\n  </tbody>\n</table>\n</div>"
     },
     "metadata": {},
     "output_type": "display_data"
    }
   ],
   "source": [
    "# --- 3. Analyze Per-Perturbation Results ---\n",
    "if test_pert_res:\n",
    "    # Convert the per-perturbation results dictionary to a DataFrame\n",
    "    pert_df = pd.DataFrame.from_dict(test_pert_res, orient='index')\n",
    "\n",
    "    print(\"--- Top 10 Best-Predicted Perturbations (by Pearson DE) ---\")\n",
    "    # CORRECTED: Sort by 'pearson_de'\n",
    "    display(pert_df.sort_values(by='pearson_de', ascending=False).head(10))\n",
    "\n",
    "    print(\"\\n--- Top 10 Worst-Predicted Perturbations (by Pearson DE) ---\")\n",
    "    # CORRECTED: Sort by 'pearson_de'\n",
    "    display(pert_df.sort_values(by='pearson_de', ascending=True).head(10))\n",
    "else:\n",
    "    print(\"Per-perturbation results are not available.\")"
   ],
   "metadata": {
    "collapsed": false,
    "ExecuteTime": {
     "end_time": "2025-10-13T09:38:25.463245700Z",
     "start_time": "2025-10-13T09:38:25.437537800Z"
    }
   }
  },
  {
   "cell_type": "code",
   "execution_count": 6,
   "outputs": [
    {
     "data": {
      "text/plain": "<Figure size 1000x600 with 1 Axes>",
      "image/png": "[encoded data removed]"
     },
     "metadata": {},
     "output_type": "display_data"
    }
   ],
   "source": [
    "# --- 4. Visualize the Distribution of Per-Perturbation Scores ---\n",
    "if test_pert_res:\n",
    "    pert_df = pd.DataFrame.from_dict(test_pert_res, orient='index')\n",
    "\n",
    "    plt.figure(figsize=(10, 6))\n",
    "    # CORRECTED: Create histogram for 'pearson_de'\n",
    "    sns.histplot(data=pert_df, x='pearson_de', kde=True, bins=30)\n",
    "\n",
    "    mean_score = pert_df['pearson_de'].mean()\n",
    "    plt.axvline(mean_score, color='r', linestyle='--', label=f'Mean = {mean_score:.3f}')\n",
    "\n",
    "    # CORRECTED: Updated title and label\n",
    "    plt.title('Distribution of Prediction Performance Across All Perturbations (on DE Genes)', fontsize=16, pad=20)\n",
    "    plt.xlabel('Pearson Correlation on DE Genes (pearson_de)', fontsize=12)\n",
    "    plt.ylabel('Count of Perturbations', fontsize=12)\n",
    "    plt.legend()\n",
    "    plt.show()"
   ],
   "metadata": {
    "collapsed": false,
    "ExecuteTime": {
     "end_time": "2025-10-13T09:38:27.492559400Z",
     "start_time": "2025-10-13T09:38:26.919024Z"
    }
   }
  },
  {
   "cell_type": "code",
   "execution_count": null,
   "outputs": [],
   "source": [],
   "metadata": {
    "collapsed": false
   }
  }
 ],
 "metadata": {
  "kernelspec": {
   "display_name": "Python 3",
   "language": "python",
   "name": "python3"
  },
  "language_info": {
   "codemirror_mode": {
    "name": "ipython",
    "version": 2
   },
   "file_extension": ".py",
   "mimetype": "text/x-python",
   "name": "python",
   "nbconvert_exporter": "python",
   "pygments_lexer": "ipython2",
   "version": "2.7.6"
  }
 },
 "nbformat": 4,
 "nbformat_minor": 5
}
