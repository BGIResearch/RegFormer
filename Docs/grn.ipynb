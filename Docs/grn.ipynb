{
 "cells": [
  {
   "cell_type": "markdown",
   "source": [
    "# Using RegFormer for Gene Regulatory Network Inference\n"
   ],
   "metadata": {
    "collapsed": false
   }
  },
  {
   "cell_type": "markdown",
   "source": [
    "In this tutorial, we will demonstrate how to leverage a pre-trained RegFormer model to infer a Gene Regulatory Network (GRN) from a single-cell RNA-seq dataset."
   ],
   "metadata": {
    "collapsed": false
   }
  },
  {
   "cell_type": "markdown",
   "source": [
    " ## 1. Execute the code"
   ],
   "metadata": {
    "collapsed": false
   }
  },
  {
   "cell_type": "code",
   "execution_count": 1,
   "outputs": [
    {
     "name": "stdout",
     "output_type": "stream",
     "text": [
      "Save to /home/share/huadjyin/home/s_huluni/project/RegFormer/case/tutorials/grn/saves/grn_10k_huamn_lung\n",
      "scMamba - INFO - Resume model from /home/share/huadjyin/home/s_huluni/project/RegFormer/case/02_pretrain/models/Pretraining/cellxgene/mamba/pt_graph_sort_avg_pool_all_length/best_model.pt, the model args will override the config /home/share/huadjyin/home/s_huluni/project/RegFormer/case/02_pretrain/models/Pretraining/cellxgene/mamba/pt_graph_sort_avg_pool_all_length/args.json.\n"
     ]
    },
    {
     "name": "stderr",
     "output_type": "stream",
     "text": [
      "/home/share/huadjyin/home/s_huluni/anaconda3/envs/py39_torch/lib/python3.9/site-packages/anndata/__init__.py:51: FutureWarning: `anndata.read` is deprecated, use `anndata.read_h5ad` instead. `ad.read` will be removed in mid 2024.\n",
      "  warnings.warn(\n"
     ]
    },
    {
     "name": "stdout",
     "output_type": "stream",
     "text": [
      "scMamba - INFO - match 2507/3000 genes in vocabulary of size 60698.\n",
      "scMamba - INFO - 🔧 Filtering genes ...\n",
      "scMamba - INFO - ✅ Normalized data saved to layers['X_normed']\n",
      "scMamba - INFO - 📝 Pre-log data saved to layers['X_log1p']\n",
      "scMamba - INFO - 🎲 Binning with 51 bins ...\n"
     ]
    },
    {
     "name": "stderr",
     "output_type": "stream",
     "text": [
      "/home/share/huadjyin/home/s_huluni/anaconda3/envs/py39_torch/lib/python3.9/site-packages/scanpy/preprocessing/_simple.py:248: ImplicitModificationWarning: Trying to modify attribute `.var` of view, initializing view as actual.\n",
      "  adata.var['n_counts'] = number\n"
     ]
    },
    {
     "name": "stdout",
     "output_type": "stream",
     "text": [
      "scMamba - INFO - ✅ Binned data saved to layers['X_binned']\n",
      "scMamba - INFO - train set number of samples: 5499, \n",
      "\t feature length: 10000\n",
      "Ratio of masked values in train:  0.0000\n",
      ">>> Init parameters:\n",
      "ntoken = 60698\n",
      "d_model = 512\n",
      "nlayers = 10\n",
      "nlayers_cls = 3\n",
      "device = cuda\n",
      "ssm_cfg = None\n",
      "norm_epsilon = 1e-05\n",
      "rms_norm = False\n",
      "fused_add_norm = False\n",
      "residual_in_fp32 = False\n",
      "initializer_cfg = None\n",
      "n_cls = 1\n",
      "vocab = GeneVocab()\n",
      "dropout = 0.2\n",
      "pad_token = <pad>\n",
      "pad_value = -2\n",
      "do_mvc = False\n",
      "do_dab = False\n",
      "do_cce = False\n",
      "use_batch_labels = False\n",
      "num_batch_labels = None\n",
      "domain_spec_batchnorm = False\n",
      "input_emb_style = continuous\n",
      "n_input_bins = 51\n",
      "cell_emb_style = avg-pool\n",
      "mvc_decoder_style = inner product\n",
      "ecs_threshold = 0.3\n",
      "explicit_zero_prob = False\n",
      "pre_norm = False\n",
      "do_pretrain = True\n",
      "topo_graph = True\n",
      "init_layer_scale = None\n",
      "if_bimamba = False\n",
      "bimamba_type = none\n",
      "do_pert = False\n",
      "pert_pad_id = 2\n",
      "token_emb_freeze = False\n",
      "only_value_emb = False\n",
      "bin_cls = False\n",
      "bin_nums = 51\n",
      "use_transformer = False\n",
      "Using simple batchnorm instead of domain specific batchnorm\n",
      "⚠️ The following keys were not loaded from pretrained model:\n",
      "[Missing] mvc_decoder.gene2query.weight not in model\n",
      "[Missing] mvc_decoder.gene2query.bias not in model\n",
      "[Missing] mvc_decoder.W.weight not in model\n",
      "scMamba - INFO - Total Pre freeze Params 48829441\n",
      "scMamba - INFO - Total Post freeze Params 48829441\n",
      "scMamba - INFO - Start embedding. Total samples: 5499\n"
     ]
    },
    {
     "name": "stderr",
     "output_type": "stream",
     "text": [
      "Aggregating gene embeddings: 100%|██████████| 688/688 [02:54<00:00,  3.93it/s]\n"
     ]
    },
    {
     "name": "stdout",
     "output_type": "stream",
     "text": [
      "scMamba - INFO - Gene embedding complete.\n",
      "scMamba - INFO - Construct GRN with top-20 connections per gene\n",
      "(2507, 2507)\n",
      "scMamba - INFO - Graph constructed with 1360 nodes and 2560 edges\n",
      "scMamba - INFO - Clustering with SpectralClustering, n_clusters=5\n"
     ]
    },
    {
     "name": "stderr",
     "output_type": "stream",
     "text": [
      "/home/share/huadjyin/home/s_huluni/anaconda3/envs/py39_torch/lib/python3.9/site-packages/sklearn/manifold/_spectral_embedding.py:310: UserWarning: Array is not symmetric, and will be converted to symmetric by average with its transpose.\n",
      "  adjacency = check_symmetric(adjacency)\n",
      "/home/share/huadjyin/home/s_huluni/anaconda3/envs/py39_torch/lib/python3.9/site-packages/sklearn/manifold/_spectral_embedding.py:329: UserWarning: Graph is not fully connected, spectral embedding may not work as expected.\n",
      "  warnings.warn(\n"
     ]
    },
    {
     "name": "stdout",
     "output_type": "stream",
     "text": [
      "scMamba - INFO - Module 0 at k=5, size=1056\n",
      "scMamba - INFO - Module 3 at k=5, size=225\n",
      "scMamba - INFO - Module 1 at k=5, size=38\n",
      "scMamba - INFO - Module 4 at k=5, size=20\n",
      "scMamba - INFO - Module 2 at k=5, size=21\n",
      "scMamba - INFO - ✅ n_clusters=5 | modules: 5, enrichment: 10165, significant: 1024\n",
      "scMamba - INFO - Clustering with SpectralClustering, n_clusters=10\n"
     ]
    },
    {
     "name": "stderr",
     "output_type": "stream",
     "text": [
      "/home/share/huadjyin/home/s_huluni/anaconda3/envs/py39_torch/lib/python3.9/site-packages/sklearn/manifold/_spectral_embedding.py:310: UserWarning: Array is not symmetric, and will be converted to symmetric by average with its transpose.\n",
      "  adjacency = check_symmetric(adjacency)\n",
      "/home/share/huadjyin/home/s_huluni/anaconda3/envs/py39_torch/lib/python3.9/site-packages/sklearn/manifold/_spectral_embedding.py:329: UserWarning: Graph is not fully connected, spectral embedding may not work as expected.\n",
      "  warnings.warn(\n"
     ]
    },
    {
     "name": "stdout",
     "output_type": "stream",
     "text": [
      "scMamba - INFO - Module 7 at k=10, size=64\n",
      "scMamba - INFO - Module 0 at k=10, size=82\n",
      "scMamba - INFO - Module 9 at k=10, size=718\n",
      "scMamba - INFO - Module 3 at k=10, size=103\n",
      "scMamba - INFO - Module 4 at k=10, size=200\n",
      "scMamba - INFO - Module 1 at k=10, size=95\n",
      "scMamba - INFO - Module 2 at k=10, size=38\n",
      "scMamba - INFO - Module 5 at k=10, size=20\n",
      "scMamba - INFO - Module 6 at k=10, size=21\n",
      "scMamba - INFO - Module 8 at k=10, size=19\n",
      "scMamba - INFO - ✅ n_clusters=10 | modules: 10, enrichment: 16043, significant: 974\n",
      "scMamba - INFO - Clustering with SpectralClustering, n_clusters=15\n"
     ]
    },
    {
     "name": "stderr",
     "output_type": "stream",
     "text": [
      "/home/share/huadjyin/home/s_huluni/anaconda3/envs/py39_torch/lib/python3.9/site-packages/sklearn/manifold/_spectral_embedding.py:310: UserWarning: Array is not symmetric, and will be converted to symmetric by average with its transpose.\n",
      "  adjacency = check_symmetric(adjacency)\n",
      "/home/share/huadjyin/home/s_huluni/anaconda3/envs/py39_torch/lib/python3.9/site-packages/sklearn/manifold/_spectral_embedding.py:329: UserWarning: Graph is not fully connected, spectral embedding may not work as expected.\n",
      "  warnings.warn(\n"
     ]
    },
    {
     "name": "stdout",
     "output_type": "stream",
     "text": [
      "scMamba - INFO - Module 11 at k=15, size=64\n",
      "scMamba - INFO - Module 8 at k=15, size=81\n",
      "scMamba - INFO - Module 1 at k=15, size=270\n",
      "scMamba - INFO - Module 5 at k=15, size=157\n",
      "scMamba - INFO - Module 13 at k=15, size=102\n",
      "scMamba - INFO - Module 10 at k=15, size=157\n",
      "scMamba - INFO - Module 12 at k=15, size=161\n",
      "scMamba - INFO - Module 14 at k=15, size=109\n",
      "scMamba - INFO - Module 9 at k=15, size=94\n",
      "scMamba - INFO - Module 6 at k=15, size=30\n",
      "scMamba - INFO - Module 3 at k=15, size=37\n",
      "scMamba - INFO - Module 0 at k=15, size=38\n",
      "scMamba - INFO - Module 4 at k=15, size=20\n",
      "scMamba - INFO - Module 7 at k=15, size=21\n",
      "scMamba - INFO - Module 2 at k=15, size=19\n",
      "scMamba - INFO - ✅ n_clusters=15 | modules: 15, enrichment: 20898, significant: 1066\n",
      "scMamba - INFO - Clustering with SpectralClustering, n_clusters=20\n"
     ]
    },
    {
     "name": "stderr",
     "output_type": "stream",
     "text": [
      "/home/share/huadjyin/home/s_huluni/anaconda3/envs/py39_torch/lib/python3.9/site-packages/sklearn/manifold/_spectral_embedding.py:310: UserWarning: Array is not symmetric, and will be converted to symmetric by average with its transpose.\n",
      "  adjacency = check_symmetric(adjacency)\n",
      "/home/share/huadjyin/home/s_huluni/anaconda3/envs/py39_torch/lib/python3.9/site-packages/sklearn/manifold/_spectral_embedding.py:329: UserWarning: Graph is not fully connected, spectral embedding may not work as expected.\n",
      "  warnings.warn(\n"
     ]
    },
    {
     "name": "stdout",
     "output_type": "stream",
     "text": [
      "scMamba - INFO - Module 15 at k=20, size=68\n",
      "scMamba - INFO - Module 8 at k=20, size=82\n",
      "scMamba - INFO - Module 1 at k=20, size=99\n",
      "scMamba - INFO - Module 16 at k=20, size=63\n",
      "scMamba - INFO - Module 13 at k=20, size=117\n",
      "scMamba - INFO - Module 3 at k=20, size=215\n",
      "scMamba - INFO - Module 19 at k=20, size=69\n",
      "scMamba - INFO - Module 0 at k=20, size=99\n",
      "scMamba - INFO - Module 14 at k=20, size=132\n",
      "scMamba - INFO - Module 11 at k=20, size=32\n",
      "scMamba - INFO - Module 12 at k=20, size=92\n",
      "scMamba - INFO - Module 9 at k=20, size=75\n",
      "scMamba - INFO - Module 17 at k=20, size=29\n",
      "scMamba - INFO - Module 10 at k=20, size=37\n",
      "scMamba - INFO - Module 6 at k=20, size=54\n",
      "scMamba - INFO - Module 5 at k=20, size=19\n",
      "scMamba - INFO - Module 4 at k=20, size=20\n",
      "scMamba - INFO - Module 18 at k=20, size=18\n",
      "scMamba - INFO - Module 7 at k=20, size=21\n",
      "scMamba - INFO - Module 2 at k=20, size=19\n",
      "scMamba - INFO - ✅ n_clusters=20 | modules: 20, enrichment: 23919, significant: 985\n",
      "scMamba - INFO - Clustering with SpectralClustering, n_clusters=25\n"
     ]
    },
    {
     "name": "stderr",
     "output_type": "stream",
     "text": [
      "/home/share/huadjyin/home/s_huluni/anaconda3/envs/py39_torch/lib/python3.9/site-packages/sklearn/manifold/_spectral_embedding.py:310: UserWarning: Array is not symmetric, and will be converted to symmetric by average with its transpose.\n",
      "  adjacency = check_symmetric(adjacency)\n",
      "/home/share/huadjyin/home/s_huluni/anaconda3/envs/py39_torch/lib/python3.9/site-packages/sklearn/manifold/_spectral_embedding.py:329: UserWarning: Graph is not fully connected, spectral embedding may not work as expected.\n",
      "  warnings.warn(\n"
     ]
    },
    {
     "name": "stdout",
     "output_type": "stream",
     "text": [
      "scMamba - INFO - Module 15 at k=25, size=64\n",
      "scMamba - INFO - Module 19 at k=25, size=42\n",
      "scMamba - INFO - Module 24 at k=25, size=41\n",
      "scMamba - INFO - Module 0 at k=25, size=117\n",
      "scMamba - INFO - Module 18 at k=25, size=63\n",
      "scMamba - INFO - Module 22 at k=25, size=86\n",
      "scMamba - INFO - Module 23 at k=25, size=51\n",
      "scMamba - INFO - Module 3 at k=25, size=198\n",
      "scMamba - INFO - Module 13 at k=25, size=68\n",
      "scMamba - INFO - Module 20 at k=25, size=100\n",
      "scMamba - INFO - Module 8 at k=25, size=117\n",
      "scMamba - INFO - Module 14 at k=25, size=33\n",
      "scMamba - INFO - Module 21 at k=25, size=63\n",
      "scMamba - INFO - Module 6 at k=25, size=55\n",
      "scMamba - INFO - Module 17 at k=25, size=29\n",
      "scMamba - INFO - Module 2 at k=25, size=36\n",
      "scMamba - INFO - Module 12 at k=25, size=17\n",
      "scMamba - INFO - Module 9 at k=25, size=18\n",
      "scMamba - INFO - Module 16 at k=25, size=37\n",
      "scMamba - INFO - Module 11 at k=25, size=29\n",
      "scMamba - INFO - Module 5 at k=25, size=18\n",
      "scMamba - INFO - Module 7 at k=25, size=20\n",
      "scMamba - INFO - Module 4 at k=25, size=18\n",
      "scMamba - INFO - Module 10 at k=25, size=21\n",
      "scMamba - INFO - Module 1 at k=25, size=19\n",
      "scMamba - INFO - ✅ n_clusters=25 | modules: 25, enrichment: 26116, significant: 861\n",
      "scMamba - INFO - Clustering with SpectralClustering, n_clusters=30\n"
     ]
    },
    {
     "name": "stderr",
     "output_type": "stream",
     "text": [
      "/home/share/huadjyin/home/s_huluni/anaconda3/envs/py39_torch/lib/python3.9/site-packages/sklearn/manifold/_spectral_embedding.py:310: UserWarning: Array is not symmetric, and will be converted to symmetric by average with its transpose.\n",
      "  adjacency = check_symmetric(adjacency)\n",
      "/home/share/huadjyin/home/s_huluni/anaconda3/envs/py39_torch/lib/python3.9/site-packages/sklearn/manifold/_spectral_embedding.py:329: UserWarning: Graph is not fully connected, spectral embedding may not work as expected.\n",
      "  warnings.warn(\n"
     ]
    },
    {
     "name": "stdout",
     "output_type": "stream",
     "text": [
      "scMamba - INFO - Module 22 at k=30, size=64\n",
      "scMamba - INFO - Module 17 at k=30, size=41\n",
      "scMamba - INFO - Module 23 at k=30, size=41\n",
      "scMamba - INFO - Module 27 at k=30, size=95\n",
      "scMamba - INFO - Module 1 at k=30, size=59\n",
      "scMamba - INFO - Module 2 at k=30, size=94\n",
      "scMamba - INFO - Module 24 at k=30, size=127\n",
      "scMamba - INFO - Module 26 at k=30, size=38\n",
      "scMamba - INFO - Module 29 at k=30, size=46\n",
      "scMamba - INFO - Module 15 at k=30, size=17\n",
      "scMamba - INFO - Module 3 at k=30, size=143\n",
      "scMamba - INFO - Module 25 at k=30, size=38\n",
      "scMamba - INFO - Module 28 at k=30, size=92\n",
      "scMamba - INFO - Module 0 at k=30, size=32\n",
      "scMamba - INFO - Module 20 at k=30, size=63\n",
      "scMamba - INFO - Module 8 at k=30, size=55\n",
      "scMamba - INFO - Module 18 at k=30, size=37\n",
      "scMamba - INFO - Module 14 at k=30, size=38\n",
      "scMamba - INFO - Module 13 at k=30, size=28\n",
      "scMamba - INFO - Module 5 at k=30, size=17\n",
      "scMamba - INFO - Module 4 at k=30, size=21\n",
      "scMamba - INFO - Module 16 at k=30, size=17\n",
      "scMamba - INFO - Module 12 at k=30, size=18\n",
      "scMamba - INFO - Module 21 at k=30, size=28\n",
      "scMamba - INFO - Module 19 at k=30, size=15\n",
      "scMamba - INFO - Module 6 at k=30, size=18\n",
      "scMamba - INFO - Module 7 at k=30, size=20\n",
      "scMamba - INFO - Module 11 at k=30, size=18\n",
      "scMamba - INFO - Module 10 at k=30, size=21\n",
      "scMamba - INFO - Module 9 at k=30, size=19\n",
      "scMamba - INFO - ✅ n_clusters=30 | modules: 30, enrichment: 28146, significant: 818\n",
      "scMamba - INFO - 💾 Enrichment results saved to /home/share/huadjyin/home/s_huluni/project/RegFormer/case/tutorials/grn/saves/grn_10k_huamn_lung/grn_enrichment.csv\n",
      "scMamba - INFO - GRN analysis complete.\n"
     ]
    }
   ],
   "source": [
    "import sys\n",
    "sys.path.insert(0, \"/home/share/huadjyin/home/s_huluni/project/RegFormer\")\n",
    "\n",
    "from downstream_task.regformer_grn import GrnTaskMamba\n",
    "config_file = \"grn_10k.toml\"\n",
    "task = GrnTaskMamba(config_file)\n",
    "task.run_grn_analysis()"
   ],
   "metadata": {
    "collapsed": false,
    "ExecuteTime": {
     "end_time": "2025-10-13T05:35:48.427307Z",
     "start_time": "2025-10-13T05:25:28.678122Z"
    }
   }
  },
  {
   "cell_type": "markdown",
   "source": [
    "## 2. Inspect and Analyze Results"
   ],
   "metadata": {
    "collapsed": false
   }
  },
  {
   "cell_type": "code",
   "execution_count": 5,
   "outputs": [
    {
     "data": {
      "text/plain": "<Figure size 600x400 with 1 Axes>",
      "image/png": "[encoded data removed]"
     },
     "metadata": {},
     "output_type": "display_data"
    }
   ],
   "source": [
    "import pandas as pd\n",
    "import matplotlib.pyplot as plt\n",
    "\n",
    "plt.rcParams[\"pdf.fonttype\"] = 42\n",
    "plt.rcParams[\"ps.fonttype\"] = 42\n",
    "\n",
    "# ===== 配置 =====\n",
    "model = \"RegFormer-10k_huamn_lung\"\n",
    "color_map = {\"RegFormer-10k_huamn_lung\": \"#E60012\"}  # 红色\n",
    "\n",
    "pval_thresh = 0.05\n",
    "hit_thresh = 5\n",
    "\n",
    "# ===== 读取数据 =====\n",
    "df = pd.read_csv(f\"/home/share/huadjyin/home/s_huluni/project/RegFormer/case/tutorials/grn/saves/grn_10k_huamn_lung/grn_enrichment.csv\")\n",
    "df[\"model\"] = model\n",
    "\n",
    "# ===== 筛选 =====\n",
    "df_filtered = df[\n",
    "    (df[\"Adjusted P-value\"] < pval_thresh) &\n",
    "    (df[\"overlap_hit\"] >= hit_thresh)\n",
    "    ]\n",
    "\n",
    "# ===== 统计 =====\n",
    "count_df = (\n",
    "    df_filtered.groupby([\"model\", \"n_clusters\"])\n",
    "    .size()\n",
    "    .reset_index(name=\"n_count\")\n",
    ")\n",
    "\n",
    "# ===== 绘图 =====\n",
    "plt.figure(figsize=(6, 4))\n",
    "plt.plot(\n",
    "    count_df[\"n_clusters\"], count_df[\"n_count\"],\n",
    "    marker=\"o\",\n",
    "    label=model,\n",
    "    color=color_map[model],\n",
    "    linewidth=2\n",
    ")\n",
    "\n",
    "plt.xlabel(\"Number of clusters\", fontsize=12)\n",
    "plt.ylabel(\"Enrichment count\", fontsize=12)\n",
    "plt.title(\n",
    "    f\"GRN enrichment count (P < {pval_thresh}, overlap_hit ≥ {hit_thresh})\",\n",
    "    fontsize=14\n",
    ")\n",
    "plt.legend(loc=\"best\", frameon=False)\n",
    "plt.ylim(0, 1200)\n",
    "plt.tight_layout()\n",
    "\n",
    "# 保存或展示\n",
    "plt.show()"
   ],
   "metadata": {
    "collapsed": false,
    "ExecuteTime": {
     "end_time": "2025-10-13T06:06:22.234439Z",
     "start_time": "2025-10-13T06:06:21.577676Z"
    }
   }
  },
  {
   "cell_type": "code",
   "outputs": [
    {
     "name": "stderr",
     "output_type": "stream",
     "text": [
      "2025-10-13 14:37:20,573 - INFO - Loading GMT file: /home/share/huadjyin/home/s_huluni/project/RegFormer/case/ablation/bin/grn/c5.go.bp.v2025.1.Hs.symbols.gmt\n",
      "2025-10-13 14:37:20,994 - INFO - Building GO-based adjacency matrix...\n",
      "2025-10-13 14:38:02,302 - INFO - GO adjacency matrix built with shape (18000, 18000)\n",
      "2025-10-13 14:38:02,304 - INFO - Loading graph for RegFormer-10k_huamn_lung: /home/share/huadjyin/home/s_huluni/project/RegFormer/case/05_grn/saves/RegFormer-10k_huamn_lung/edges.csv\n",
      "2025-10-13 14:38:02,437 - INFO - Computing cosine similarity...\n",
      "2025-10-13 14:38:02,625 - INFO - RegFormer-10k_huamn_lung cosine similarity = 6.6253\n"
     ]
    },
    {
     "data": {
      "text/plain": "<Figure size 1000x200 with 1 Axes>",
      "image/png": "[encoded data removed]"
     },
     "metadata": {},
     "output_type": "display_data"
    },
    {
     "name": "stderr",
     "output_type": "stream",
     "text": [
      "2025-10-13 14:38:02,914 - INFO - Plot saved and process finished successfully.\n"
     ]
    }
   ],
   "source": [
    "import pandas as pd\n",
    "import networkx as nx\n",
    "import numpy as np\n",
    "import logging\n",
    "import matplotlib.pyplot as plt\n",
    "from collections import defaultdict\n",
    "from concurrent.futures import ProcessPoolExecutor, as_completed\n",
    "from sklearn.metrics.pairwise import cosine_similarity\n",
    "from scipy.stats import spearmanr, pearsonr\n",
    "\n",
    "# ===============================\n",
    "# Basic configuration\n",
    "# ===============================\n",
    "model = \"RegFormer-10k_huamn_lung\"\n",
    "color_map = {\"RegFormer-10k_huamn_lung\": \"#E60012\"}  # red\n",
    "\n",
    "logging.basicConfig(\n",
    "    level=logging.INFO,\n",
    "    format=\"%(asctime)s - %(levelname)s - %(message)s\"\n",
    ")\n",
    "logger = logging.getLogger(__name__)\n",
    "\n",
    "\n",
    "# ===============================\n",
    "# 1. Read GMT file\n",
    "# ===============================\n",
    "def load_gmt(gmt_file):\n",
    "    \"\"\"\n",
    "    Read a GMT file and return two dictionaries:\n",
    "    - gene2gos: {gene -> set(GO terms)}\n",
    "    - go2genes: {GO term -> set(genes)}\n",
    "    \"\"\"\n",
    "    gene2gos = defaultdict(set)\n",
    "    go2genes = defaultdict(set)\n",
    "    with open(gmt_file) as f:\n",
    "        for line in f:\n",
    "            parts = line.strip().split(\"\\t\")\n",
    "            go_term = parts[0]\n",
    "            genes = parts[2:]\n",
    "            for g in genes:\n",
    "                gene2gos[g].add(go_term)\n",
    "                go2genes[go_term].add(g)\n",
    "    return gene2gos, go2genes\n",
    "\n",
    "\n",
    "# ===============================\n",
    "# 2. Build GO-based gene–gene adjacency matrix in parallel\n",
    "# ===============================\n",
    "def _partial_adjacency(genes_chunk, genes_all, gene2gos):\n",
    "    \"\"\"\n",
    "    Compute adjacency relationships for a subset of genes (chunk).\n",
    "    Returns a list of edges (i, j) where two genes share at least one GO term.\n",
    "    \"\"\"\n",
    "    edges = []\n",
    "    for i in genes_chunk:\n",
    "        gos_i = gene2gos[genes_all[i]]\n",
    "        for j in range(i + 1, len(genes_all)):\n",
    "            gos_j = gene2gos[genes_all[j]]\n",
    "            if gos_i & gos_j:\n",
    "                edges.append((i, j))\n",
    "    return edges\n",
    "\n",
    "\n",
    "def build_gene_gene_adjacency_parallel(gene2gos, n_process=36):\n",
    "    \"\"\"\n",
    "    Build a gene–gene adjacency matrix (0/1) using multiprocessing.\n",
    "    Two genes are connected if they share any GO term.\n",
    "    \"\"\"\n",
    "    genes = list(gene2gos.keys())\n",
    "    n = len(genes)\n",
    "    mat = np.zeros((n, n), dtype=int)\n",
    "\n",
    "    step = int(np.ceil(n / n_process))\n",
    "    chunks = [list(range(i, min(i + step, n))) for i in range(0, n, step)]\n",
    "\n",
    "    edges_all = []\n",
    "    with ProcessPoolExecutor(max_workers=n_process) as executor:\n",
    "        futures = [executor.submit(_partial_adjacency, chunk, genes, gene2gos) for chunk in chunks]\n",
    "        for fut in as_completed(futures):\n",
    "            edges_all.extend(fut.result())\n",
    "\n",
    "    for i, j in edges_all:\n",
    "        mat[i, j] = mat[j, i] = 1\n",
    "\n",
    "    return pd.DataFrame(mat, index=genes, columns=genes)\n",
    "\n",
    "\n",
    "# ===============================\n",
    "# 3. Graph conversion utilities\n",
    "# ===============================\n",
    "def graph_to_adjacency(G):\n",
    "    \"\"\"\n",
    "    Convert a NetworkX graph into an adjacency matrix (DataFrame of 0/1).\n",
    "    \"\"\"\n",
    "    nodes = list(G.nodes())\n",
    "    A = nx.to_numpy_array(G, nodelist=nodes, dtype=int, weight=None)\n",
    "    return pd.DataFrame(A, index=nodes, columns=nodes)\n",
    "\n",
    "\n",
    "# ===============================\n",
    "# 4. Network similarity computation\n",
    "# ===============================\n",
    "def compare_networks(adj1, adj2, method=\"cosine\", U=None, V=None):\n",
    "    \"\"\"\n",
    "    Compare two adjacency matrices (gene networks).\n",
    "    Supported method: cosine similarity only (simplified version).\n",
    "    If U, V are provided (bipartite case), compute similarity on submatrices.\n",
    "    \"\"\"\n",
    "    if U is None or V is None:\n",
    "        genes = adj1.index.intersection(adj2.index)\n",
    "        A = adj1.loc[genes, genes].values\n",
    "        B = adj2.loc[genes, genes].values\n",
    "    else:\n",
    "        U = adj1.index.intersection(U)\n",
    "        V = adj1.index.intersection(V)\n",
    "        A = adj1.loc[U, V].values\n",
    "        B = adj2.loc[U, V].values\n",
    "\n",
    "    density_B = np.count_nonzero(B) / B.size\n",
    "\n",
    "    if method == \"cosine\":\n",
    "        score = cosine_similarity(\n",
    "            A.flatten().reshape(1, -1),\n",
    "            B.flatten().reshape(1, -1)\n",
    "        )[0, 0]\n",
    "    else:\n",
    "        raise ValueError(\"Only cosine is supported in this simplified version.\")\n",
    "\n",
    "    return score / density_B if density_B > 0 else 0.0\n",
    "\n",
    "\n",
    "# ===============================\n",
    "# 5. Main workflow\n",
    "# ===============================\n",
    "gmt_file = \"/home/share/huadjyin/home/s_huluni/project/RegFormer/case/ablation/bin/grn/c5.go.bp.v2025.1.Hs.symbols.gmt\"\n",
    "logger.info(f\"Loading GMT file: {gmt_file}\")\n",
    "gene2gos, go2genes = load_gmt(gmt_file)\n",
    "\n",
    "logger.info(\"Building GO-based adjacency matrix...\")\n",
    "adj_go = build_gene_gene_adjacency_parallel(gene2gos)\n",
    "logger.info(f\"GO adjacency matrix built with shape {adj_go.shape}\")\n",
    "\n",
    "# ===============================\n",
    "# 6. Load RegFormer graph and compute similarity\n",
    "# ===============================\n",
    "graph_path = f\"/home/share/huadjyin/home/s_huluni/project/RegFormer/case/05_grn/saves/{model}/edges.csv\"\n",
    "logger.info(f\"Loading graph for {model}: {graph_path}\")\n",
    "\n",
    "graph = pd.read_csv(graph_path)\n",
    "G = nx.from_pandas_edgelist(graph, create_using=nx.DiGraph())\n",
    "adj2 = graph_to_adjacency(G)\n",
    "U = {u for u, v in G.edges()}\n",
    "V = {v for u, v in G.edges()}\n",
    "\n",
    "logger.info(\"Computing cosine similarity...\")\n",
    "cos_score = compare_networks(adj_go, adj2, method=\"cosine\", U=U, V=V)\n",
    "logger.info(f\"{model} cosine similarity = {cos_score:.4f}\")\n",
    "\n",
    "# ===============================\n",
    "# 7. Visualization\n",
    "# ===============================\n",
    "plt.figure(figsize=(10, 2))\n",
    "plt.barh([model], [cos_score], color=color_map[model], height=0.4)\n",
    "plt.xlabel(\"Cosine Similarity\", fontsize=12)\n",
    "plt.xlim(0, 10)\n",
    "plt.title(\"Biological Coherence (GO vs. RegFormer Network)\", fontsize=13)\n",
    "plt.tight_layout()\n",
    "plt.show()\n",
    "\n",
    "logger.info(\"Plot saved and process finished successfully.\")\n"
   ],
   "metadata": {
    "collapsed": false,
    "ExecuteTime": {
     "end_time": "2025-10-13T06:38:02.917062Z",
     "start_time": "2025-10-13T06:37:20.547778Z"
    }
   },
   "id": "c15db62feffd739c",
   "execution_count": 8
  },
  {
   "cell_type": "code",
   "outputs": [],
   "source": [],
   "metadata": {
    "collapsed": false
   },
   "id": "bdef170548e51053"
  }
 ],
 "metadata": {
  "kernelspec": {
   "display_name": "Python 3",
   "language": "python",
   "name": "python3"
  },
  "language_info": {
   "codemirror_mode": {
    "name": "ipython",
    "version": 2
   },
   "file_extension": ".py",
   "mimetype": "text/x-python",
   "name": "python",
   "nbconvert_exporter": "python",
   "pygments_lexer": "ipython2",
   "version": "2.7.6"
  }
 },
 "nbformat": 4,
 "nbformat_minor": 5
}
